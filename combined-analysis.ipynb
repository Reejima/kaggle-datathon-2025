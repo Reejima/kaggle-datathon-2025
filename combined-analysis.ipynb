{
 "cells": [
  {
   "cell_type": "code",
   "execution_count": 1,
   "id": "38d65ff8-80a3-49b7-b703-5a43c1d61754",
   "metadata": {},
   "outputs": [],
   "source": [
    "import pandas as pd\n",
    "import matplotlib\n",
    "import matplotlib.pyplot as plt\n",
    "import seaborn as sns"
   ]
  },
  {
   "cell_type": "code",
   "execution_count": 2,
   "id": "8c8f063b-080c-41f7-ad33-d9d8b129a5e0",
   "metadata": {},
   "outputs": [],
   "source": [
    "from sklearn.model_selection import cross_val_score\n",
    "from sklearn.metrics import make_scorer, accuracy_score\n",
    "import numpy as np\n",
    "from xgboost import XGBClassifier\n",
    "from sklearn.multioutput import MultiOutputClassifier\n",
    "from sklearn.model_selection import train_test_split\n",
    "import joblib"
   ]
  },
  {
   "cell_type": "code",
   "execution_count": 3,
   "id": "4f1637a7-a23c-42c2-ad9c-2ecf071bdea1",
   "metadata": {},
   "outputs": [],
   "source": [
    "def load_data_old():\n",
    "    print('load old files')\n",
    "    df_categorical = pd.read_excel('TRAIN_OLD/TRAIN_CATEGORICAL_METADATA.xlsx')\n",
    "    df_matrices = pd.read_csv('TRAIN_OLD/TRAIN_FUNCTIONAL_CONNECTOME_MATRICES.csv')\n",
    "    df_quant = pd.read_excel('TRAIN_OLD/TRAIN_QUANTITATIVE_METADATA.xlsx')\n",
    "    df_solutions = pd.read_excel('TRAIN_OLD/TRAINING_SOLUTIONS.xlsx')  \n",
    "    print('load test files')\n",
    "    df_categorical_test = pd.read_excel('TEST/TEST_CATEGORICAL.xlsx')\n",
    "    df_matrices_test = pd.read_csv('TEST/TEST_FUNCTIONAL_CONNECTOME_MATRICES.csv')\n",
    "    df_quant_test = pd.read_excel('TEST/TEST_QUANTITATIVE_METADATA.xlsx')\n",
    "    return df_categorical,df_matrices,df_quant,df_solutions,df_categorical_test,df_matrices_test,df_quant_test"
   ]
  },
  {
   "cell_type": "code",
   "execution_count": 38,
   "id": "7224d442-fd35-4885-af74-b528e53ac0cb",
   "metadata": {},
   "outputs": [],
   "source": [
    "def load_data_new():\n",
    "    print('load new files')\n",
    "    df_categorical = pd.read_excel('TRAIN_NEW/TRAIN_CATEGORICAL_METADATA_new.xlsx')\n",
    "    df_matrices = pd.read_csv('TRAIN_NEW/TRAIN_FUNCTIONAL_CONNECTOME_MATRICES_new_36P_Pearson.csv')\n",
    "    df_quant = pd.read_excel('TRAIN_NEW/TRAIN_QUANTITATIVE_METADATA_new.xlsx')\n",
    "    df_solutions = pd.read_excel('TRAIN_NEW/TRAINING_SOLUTIONS.xlsx')  \n",
    "    print('load test files')\n",
    "    df_categorical_test = pd.read_excel('TEST/TEST_CATEGORICAL.xlsx')\n",
    "    df_matrices_test = pd.read_csv('TEST/TEST_FUNCTIONAL_CONNECTOME_MATRICES.csv')\n",
    "    df_quant_test = pd.read_excel('TEST/TEST_QUANTITATIVE_METADATA.xlsx')\n",
    "    return df_categorical,df_matrices,df_quant,df_solutions,df_categorical_test,df_matrices_test,df_quant_test"
   ]
  },
  {
   "cell_type": "code",
   "execution_count": 5,
   "id": "624361a7-1578-40be-a84b-6e0234f5154b",
   "metadata": {},
   "outputs": [],
   "source": [
    "def join_data(categorical,matrices,quantitative,solutions=None):\n",
    "    print('joining data frames')\n",
    "    cat_quant = pd.merge(categorical, quantitative , on ='participant_id', how ='inner')\n",
    "    cat_quant_mat = pd.merge(cat_quant, matrices , on ='participant_id', how ='inner')\n",
    "    if isinstance(solutions, pd.DataFrame):\n",
    "        cat_quant_mat_sols = pd.merge(cat_quant_mat, solutions , on ='participant_id', how ='inner')\n",
    "        return cat_quant_mat_sols\n",
    "    else:    \n",
    "        return cat_quant_mat"
   ]
  },
  {
   "cell_type": "code",
   "execution_count": 34,
   "id": "fa41020a-4f0d-4cda-864c-9d9627bd3ccc",
   "metadata": {},
   "outputs": [],
   "source": [
    "def save_model(model,name,accuracy,y_test,y_pred):\n",
    "    joblib.dump({'model': model, 'y_test': y_test,'y_pred': y_pred, 'accuracy': accuracy}, name)\n",
    "    print('saved the model')\n",
    "\n",
    "def save_exploration(model,name):\n",
    "    joblib.dump({'model': model}, name)\n",
    "    print('save_exploration')\n",
    "\n",
    "def get_model(name):\n",
    "    model = joblib.load(name)\n",
    "    print(model)\n",
    "    return model"
   ]
  },
  {
   "cell_type": "code",
   "execution_count": 35,
   "id": "ee0b94b4-14fa-4462-a827-f5ffd82982b7",
   "metadata": {},
   "outputs": [],
   "source": [
    "def loaddata_joinframes_splittestandtrain(df_categorical_new,df_matrices_new,df_quant_new,df_solutions_new):\n",
    "    joined_training_data = join_data(df_categorical_new,df_matrices_new,df_quant_new,df_solutions_new)\n",
    "    X = joined_training_data.drop(columns = ['ADHD_Outcome','Sex_F'] )\n",
    "    Y = joined_training_data[['participant_id','ADHD_Outcome','Sex_F']]\n",
    "    X_train_data, X_test_data, y_train_data, y_test_data = split_data(X, Y)\n",
    "    return X_train_data, X_test_data, y_train_data, y_test_data"
   ]
  },
  {
   "cell_type": "markdown",
   "id": "abfd33da-3841-409a-b227-f05cea5514b4",
   "metadata": {},
   "source": [
    "### Reference for parts of below sections taken from datathon slides\n",
    "### https://colab.research.google.com/drive/1texL3JnRdTHyevP3_GzousIFKjTj0LmY#scrollTo=IGFYIQSmlUMb"
   ]
  },
  {
   "cell_type": "code",
   "execution_count": 14,
   "id": "75336bc0-3498-47a8-9aa7-fe9e90a8460c",
   "metadata": {},
   "outputs": [],
   "source": [
    "def xgboost_classifer():\n",
    "    print('xgboost_classifer')\n",
    "    # Initialize the base classifier\n",
    "    classifier = XGBClassifier(objective='binary:logistic', n_estimators=100, learning_rate=0.1, max_depth=5)\n",
    "    multioutput_classifier = MultiOutputClassifier(classifier)\n",
    "    return multioutput_classifier"
   ]
  },
  {
   "cell_type": "code",
   "execution_count": 15,
   "id": "e0f31412-c501-4756-b9e2-492385a571a2",
   "metadata": {},
   "outputs": [],
   "source": [
    "def train(model,X_train, y_train):\n",
    "    print('train the model')\n",
    "    X_train  = X_train_data.drop(columns = ['participant_id'] )\n",
    "    y_train  = y_train_data.drop(columns = ['participant_id'] )\n",
    "    model.fit(X_train, y_train)"
   ]
  },
  {
   "cell_type": "code",
   "execution_count": 16,
   "id": "2dcd712e-832d-4734-a4f9-6b88f015f56b",
   "metadata": {},
   "outputs": [],
   "source": [
    "def predict(model,X_test):\n",
    "    print('predict with the model')\n",
    "    X_test_data  = X_test.drop(columns = ['participant_id'] )\n",
    "    y_pred = model.predict(X_test_data)\n",
    "    predictions_df = pd.DataFrame(\n",
    "        y_pred,\n",
    "        columns=['Predicted_Gender', 'Predicted_ADHD']\n",
    "    )\n",
    "    return predictions_df"
   ]
  },
  {
   "cell_type": "code",
   "execution_count": 17,
   "id": "a9f2dc62-fd73-46e2-8d8b-7027c66147dd",
   "metadata": {},
   "outputs": [],
   "source": [
    "def calculate_score(y_test,y_pred):\n",
    "    print('calculate score with prediction vs true values')\n",
    "    y_test_results  = y_test.drop(columns = ['participant_id'] )\n",
    "    accuracy = accuracy_score(y_test_results, y_pred)\n",
    "    print(f\"Accuracy: {accuracy * 100:.2f}%\")"
   ]
  },
  {
   "cell_type": "code",
   "execution_count": 18,
   "id": "d13b51b2-dadb-47e7-9fd1-4acc18852085",
   "metadata": {},
   "outputs": [],
   "source": [
    "def split_data(X,Y):\n",
    "    print('split the train and test data')\n",
    "    X_train_data, X_test_data, y_train_data, y_test_data = train_test_split(X, Y, test_size=0.2, random_state=42)\n",
    "    return X_train_data, X_test_data, y_train_data, y_test_data"
   ]
  },
  {
   "cell_type": "code",
   "execution_count": 31,
   "id": "48849f42-098c-440a-a97b-7a111ddf607a",
   "metadata": {},
   "outputs": [],
   "source": [
    "def multi_output_accuracy(y_true, y_pred):\n",
    "    # Ensure y_true and y_pred are NumPy arrays\n",
    "    y_true = np.array(y_true)\n",
    "    y_pred = np.array(y_pred)\n",
    "    # Compute accuracy for each target variable and return the mean\n",
    "    return np.mean([accuracy_score(y_true[:, i], y_pred[:, i]) for i in range(y_true.shape[1])])"
   ]
  },
  {
   "cell_type": "code",
   "execution_count": 32,
   "id": "28d604fd-b74f-47df-8beb-4fc72854dd64",
   "metadata": {},
   "outputs": [],
   "source": [
    "def do_cross_validation(X,Y,model):\n",
    "    # Perform cross-validation on the training data\n",
    "    X_train_cv  = X.drop(columns = ['participant_id'] )\n",
    "    y_train_cv  = Y.drop(columns = ['participant_id'] )\n",
    "    # Create a scorer using scikit-learn's make_scorer\n",
    "    multi_output_scorer = make_scorer(multi_output_accuracy)\n",
    "    cv_scores = cross_val_score(model, X_train_cv, y_train_cv, cv=5, scoring=multi_output_scorer)\n",
    "    \n",
    "    # Output the cross-validation results\n",
    "    print(\"Cross-validation scores for each fold:\", cv_scores)\n",
    "    print(\"Mean CV score:\", np.mean(cv_scores))"
   ]
  },
  {
   "cell_type": "markdown",
   "id": "1c587a78-f0bf-41bb-baed-e9ef91710670",
   "metadata": {},
   "source": [
    "## start"
   ]
  },
  {
   "cell_type": "code",
   "execution_count": 7,
   "id": "0abbfd7f-4340-41b7-91ad-8a866b5005c0",
   "metadata": {},
   "outputs": [],
   "source": [
    "df_categorical,df_matrices,df_quant,df_solutions,df_categorical_test,df_matrices_test,df_quant_test = load_data_old()\n",
    "joined_training_data = join_data(df_categorical,df_matrices,df_quant,df_solutions)"
   ]
  },
  {
   "cell_type": "code",
   "execution_count": 8,
   "id": "83d35ce0-d808-46c7-9c74-11d4a75316a9",
   "metadata": {},
   "outputs": [
    {
     "data": {
      "text/html": [
       "<div>\n",
       "<style scoped>\n",
       "    .dataframe tbody tr th:only-of-type {\n",
       "        vertical-align: middle;\n",
       "    }\n",
       "\n",
       "    .dataframe tbody tr th {\n",
       "        vertical-align: top;\n",
       "    }\n",
       "\n",
       "    .dataframe thead th {\n",
       "        text-align: right;\n",
       "    }\n",
       "</style>\n",
       "<table border=\"1\" class=\"dataframe\">\n",
       "  <thead>\n",
       "    <tr style=\"text-align: right;\">\n",
       "      <th></th>\n",
       "      <th>participant_id</th>\n",
       "      <th>Basic_Demos_Enroll_Year</th>\n",
       "      <th>Basic_Demos_Study_Site</th>\n",
       "      <th>PreInt_Demos_Fam_Child_Ethnicity</th>\n",
       "      <th>PreInt_Demos_Fam_Child_Race</th>\n",
       "      <th>MRI_Track_Scan_Location</th>\n",
       "      <th>Barratt_Barratt_P1_Edu</th>\n",
       "      <th>Barratt_Barratt_P1_Occ</th>\n",
       "      <th>Barratt_Barratt_P2_Edu</th>\n",
       "      <th>Barratt_Barratt_P2_Occ</th>\n",
       "      <th>...</th>\n",
       "      <th>195throw_198thcolumn</th>\n",
       "      <th>195throw_199thcolumn</th>\n",
       "      <th>196throw_197thcolumn</th>\n",
       "      <th>196throw_198thcolumn</th>\n",
       "      <th>196throw_199thcolumn</th>\n",
       "      <th>197throw_198thcolumn</th>\n",
       "      <th>197throw_199thcolumn</th>\n",
       "      <th>198throw_199thcolumn</th>\n",
       "      <th>ADHD_Outcome</th>\n",
       "      <th>Sex_F</th>\n",
       "    </tr>\n",
       "  </thead>\n",
       "  <tbody>\n",
       "    <tr>\n",
       "      <th>0</th>\n",
       "      <td>UmrK0vMLopoR</td>\n",
       "      <td>2016</td>\n",
       "      <td>1</td>\n",
       "      <td>0.0</td>\n",
       "      <td>0</td>\n",
       "      <td>1</td>\n",
       "      <td>21</td>\n",
       "      <td>45</td>\n",
       "      <td>21</td>\n",
       "      <td>45</td>\n",
       "      <td>...</td>\n",
       "      <td>-0.058396</td>\n",
       "      <td>-0.041544</td>\n",
       "      <td>0.142806</td>\n",
       "      <td>-0.006377</td>\n",
       "      <td>0.108005</td>\n",
       "      <td>0.148327</td>\n",
       "      <td>0.093230</td>\n",
       "      <td>-0.004984</td>\n",
       "      <td>1</td>\n",
       "      <td>1</td>\n",
       "    </tr>\n",
       "    <tr>\n",
       "      <th>1</th>\n",
       "      <td>CPaeQkhcjg7d</td>\n",
       "      <td>2019</td>\n",
       "      <td>3</td>\n",
       "      <td>1.0</td>\n",
       "      <td>2</td>\n",
       "      <td>3</td>\n",
       "      <td>15</td>\n",
       "      <td>15</td>\n",
       "      <td>0</td>\n",
       "      <td>0</td>\n",
       "      <td>...</td>\n",
       "      <td>-0.025624</td>\n",
       "      <td>-0.031863</td>\n",
       "      <td>0.162011</td>\n",
       "      <td>0.067439</td>\n",
       "      <td>0.017155</td>\n",
       "      <td>0.088893</td>\n",
       "      <td>0.064094</td>\n",
       "      <td>0.194381</td>\n",
       "      <td>1</td>\n",
       "      <td>0</td>\n",
       "    </tr>\n",
       "  </tbody>\n",
       "</table>\n",
       "<p>2 rows × 19930 columns</p>\n",
       "</div>"
      ],
      "text/plain": [
       "  participant_id  Basic_Demos_Enroll_Year  Basic_Demos_Study_Site  \\\n",
       "0   UmrK0vMLopoR                     2016                       1   \n",
       "1   CPaeQkhcjg7d                     2019                       3   \n",
       "\n",
       "   PreInt_Demos_Fam_Child_Ethnicity  PreInt_Demos_Fam_Child_Race  \\\n",
       "0                               0.0                            0   \n",
       "1                               1.0                            2   \n",
       "\n",
       "   MRI_Track_Scan_Location  Barratt_Barratt_P1_Edu  Barratt_Barratt_P1_Occ  \\\n",
       "0                        1                      21                      45   \n",
       "1                        3                      15                      15   \n",
       "\n",
       "   Barratt_Barratt_P2_Edu  Barratt_Barratt_P2_Occ  ...  195throw_198thcolumn  \\\n",
       "0                      21                      45  ...             -0.058396   \n",
       "1                       0                       0  ...             -0.025624   \n",
       "\n",
       "   195throw_199thcolumn  196throw_197thcolumn  196throw_198thcolumn  \\\n",
       "0             -0.041544              0.142806             -0.006377   \n",
       "1             -0.031863              0.162011              0.067439   \n",
       "\n",
       "   196throw_199thcolumn  197throw_198thcolumn  197throw_199thcolumn  \\\n",
       "0              0.108005              0.148327              0.093230   \n",
       "1              0.017155              0.088893              0.064094   \n",
       "\n",
       "   198throw_199thcolumn  ADHD_Outcome  Sex_F  \n",
       "0             -0.004984             1      1  \n",
       "1              0.194381             1      0  \n",
       "\n",
       "[2 rows x 19930 columns]"
      ]
     },
     "execution_count": 8,
     "metadata": {},
     "output_type": "execute_result"
    }
   ],
   "source": [
    "joined_training_data.head(2)"
   ]
  },
  {
   "cell_type": "code",
   "execution_count": 9,
   "id": "e7e1f136-b04c-4379-97e2-68df87b17124",
   "metadata": {},
   "outputs": [],
   "source": [
    "X = joined_training_data.drop(columns = ['ADHD_Outcome','Sex_F'] )"
   ]
  },
  {
   "cell_type": "code",
   "execution_count": 10,
   "id": "7f78a2bb-40cd-4d82-80b9-9b1cdf47de53",
   "metadata": {},
   "outputs": [
    {
     "data": {
      "text/html": [
       "<div>\n",
       "<style scoped>\n",
       "    .dataframe tbody tr th:only-of-type {\n",
       "        vertical-align: middle;\n",
       "    }\n",
       "\n",
       "    .dataframe tbody tr th {\n",
       "        vertical-align: top;\n",
       "    }\n",
       "\n",
       "    .dataframe thead th {\n",
       "        text-align: right;\n",
       "    }\n",
       "</style>\n",
       "<table border=\"1\" class=\"dataframe\">\n",
       "  <thead>\n",
       "    <tr style=\"text-align: right;\">\n",
       "      <th></th>\n",
       "      <th>participant_id</th>\n",
       "      <th>Basic_Demos_Enroll_Year</th>\n",
       "      <th>Basic_Demos_Study_Site</th>\n",
       "      <th>PreInt_Demos_Fam_Child_Ethnicity</th>\n",
       "      <th>PreInt_Demos_Fam_Child_Race</th>\n",
       "      <th>MRI_Track_Scan_Location</th>\n",
       "      <th>Barratt_Barratt_P1_Edu</th>\n",
       "      <th>Barratt_Barratt_P1_Occ</th>\n",
       "      <th>Barratt_Barratt_P2_Edu</th>\n",
       "      <th>Barratt_Barratt_P2_Occ</th>\n",
       "      <th>...</th>\n",
       "      <th>195throw_196thcolumn</th>\n",
       "      <th>195throw_197thcolumn</th>\n",
       "      <th>195throw_198thcolumn</th>\n",
       "      <th>195throw_199thcolumn</th>\n",
       "      <th>196throw_197thcolumn</th>\n",
       "      <th>196throw_198thcolumn</th>\n",
       "      <th>196throw_199thcolumn</th>\n",
       "      <th>197throw_198thcolumn</th>\n",
       "      <th>197throw_199thcolumn</th>\n",
       "      <th>198throw_199thcolumn</th>\n",
       "    </tr>\n",
       "  </thead>\n",
       "  <tbody>\n",
       "    <tr>\n",
       "      <th>0</th>\n",
       "      <td>UmrK0vMLopoR</td>\n",
       "      <td>2016</td>\n",
       "      <td>1</td>\n",
       "      <td>0.0</td>\n",
       "      <td>0</td>\n",
       "      <td>1</td>\n",
       "      <td>21</td>\n",
       "      <td>45</td>\n",
       "      <td>21</td>\n",
       "      <td>45</td>\n",
       "      <td>...</td>\n",
       "      <td>-0.037630</td>\n",
       "      <td>-0.072599</td>\n",
       "      <td>-0.058396</td>\n",
       "      <td>-0.041544</td>\n",
       "      <td>0.142806</td>\n",
       "      <td>-0.006377</td>\n",
       "      <td>0.108005</td>\n",
       "      <td>0.148327</td>\n",
       "      <td>0.093230</td>\n",
       "      <td>-0.004984</td>\n",
       "    </tr>\n",
       "    <tr>\n",
       "      <th>1</th>\n",
       "      <td>CPaeQkhcjg7d</td>\n",
       "      <td>2019</td>\n",
       "      <td>3</td>\n",
       "      <td>1.0</td>\n",
       "      <td>2</td>\n",
       "      <td>3</td>\n",
       "      <td>15</td>\n",
       "      <td>15</td>\n",
       "      <td>0</td>\n",
       "      <td>0</td>\n",
       "      <td>...</td>\n",
       "      <td>0.014106</td>\n",
       "      <td>-0.001084</td>\n",
       "      <td>-0.025624</td>\n",
       "      <td>-0.031863</td>\n",
       "      <td>0.162011</td>\n",
       "      <td>0.067439</td>\n",
       "      <td>0.017155</td>\n",
       "      <td>0.088893</td>\n",
       "      <td>0.064094</td>\n",
       "      <td>0.194381</td>\n",
       "    </tr>\n",
       "  </tbody>\n",
       "</table>\n",
       "<p>2 rows × 19928 columns</p>\n",
       "</div>"
      ],
      "text/plain": [
       "  participant_id  Basic_Demos_Enroll_Year  Basic_Demos_Study_Site  \\\n",
       "0   UmrK0vMLopoR                     2016                       1   \n",
       "1   CPaeQkhcjg7d                     2019                       3   \n",
       "\n",
       "   PreInt_Demos_Fam_Child_Ethnicity  PreInt_Demos_Fam_Child_Race  \\\n",
       "0                               0.0                            0   \n",
       "1                               1.0                            2   \n",
       "\n",
       "   MRI_Track_Scan_Location  Barratt_Barratt_P1_Edu  Barratt_Barratt_P1_Occ  \\\n",
       "0                        1                      21                      45   \n",
       "1                        3                      15                      15   \n",
       "\n",
       "   Barratt_Barratt_P2_Edu  Barratt_Barratt_P2_Occ  ...  195throw_196thcolumn  \\\n",
       "0                      21                      45  ...             -0.037630   \n",
       "1                       0                       0  ...              0.014106   \n",
       "\n",
       "   195throw_197thcolumn  195throw_198thcolumn  195throw_199thcolumn  \\\n",
       "0             -0.072599             -0.058396             -0.041544   \n",
       "1             -0.001084             -0.025624             -0.031863   \n",
       "\n",
       "   196throw_197thcolumn  196throw_198thcolumn  196throw_199thcolumn  \\\n",
       "0              0.142806             -0.006377              0.108005   \n",
       "1              0.162011              0.067439              0.017155   \n",
       "\n",
       "   197throw_198thcolumn  197throw_199thcolumn  198throw_199thcolumn  \n",
       "0              0.148327              0.093230             -0.004984  \n",
       "1              0.088893              0.064094              0.194381  \n",
       "\n",
       "[2 rows x 19928 columns]"
      ]
     },
     "execution_count": 10,
     "metadata": {},
     "output_type": "execute_result"
    }
   ],
   "source": [
    "X.head(2)"
   ]
  },
  {
   "cell_type": "code",
   "execution_count": 11,
   "id": "c697c807-6e31-4967-978b-70c856bc4f56",
   "metadata": {},
   "outputs": [],
   "source": [
    "Y = joined_training_data[['participant_id','ADHD_Outcome','Sex_F']]"
   ]
  },
  {
   "cell_type": "code",
   "execution_count": 12,
   "id": "594d6c3b-f22f-484f-aa0f-3824b227dfb4",
   "metadata": {},
   "outputs": [
    {
     "data": {
      "text/html": [
       "<div>\n",
       "<style scoped>\n",
       "    .dataframe tbody tr th:only-of-type {\n",
       "        vertical-align: middle;\n",
       "    }\n",
       "\n",
       "    .dataframe tbody tr th {\n",
       "        vertical-align: top;\n",
       "    }\n",
       "\n",
       "    .dataframe thead th {\n",
       "        text-align: right;\n",
       "    }\n",
       "</style>\n",
       "<table border=\"1\" class=\"dataframe\">\n",
       "  <thead>\n",
       "    <tr style=\"text-align: right;\">\n",
       "      <th></th>\n",
       "      <th>participant_id</th>\n",
       "      <th>ADHD_Outcome</th>\n",
       "      <th>Sex_F</th>\n",
       "    </tr>\n",
       "  </thead>\n",
       "  <tbody>\n",
       "    <tr>\n",
       "      <th>0</th>\n",
       "      <td>UmrK0vMLopoR</td>\n",
       "      <td>1</td>\n",
       "      <td>1</td>\n",
       "    </tr>\n",
       "    <tr>\n",
       "      <th>1</th>\n",
       "      <td>CPaeQkhcjg7d</td>\n",
       "      <td>1</td>\n",
       "      <td>0</td>\n",
       "    </tr>\n",
       "  </tbody>\n",
       "</table>\n",
       "</div>"
      ],
      "text/plain": [
       "  participant_id  ADHD_Outcome  Sex_F\n",
       "0   UmrK0vMLopoR             1      1\n",
       "1   CPaeQkhcjg7d             1      0"
      ]
     },
     "execution_count": 12,
     "metadata": {},
     "output_type": "execute_result"
    }
   ],
   "source": [
    "Y.head(2)"
   ]
  },
  {
   "cell_type": "code",
   "execution_count": 19,
   "id": "b3aa190f-944e-4d9a-b20c-3b3e27f69a97",
   "metadata": {},
   "outputs": [
    {
     "name": "stdout",
     "output_type": "stream",
     "text": [
      "split the train and test data\n"
     ]
    }
   ],
   "source": [
    "X_train_data, X_test_data, y_train_data, y_test_data = split_data(X, Y)"
   ]
  },
  {
   "cell_type": "markdown",
   "id": "16ca82ac-f2a2-49a7-8e87-d7e5a33dbfca",
   "metadata": {},
   "source": [
    "## training"
   ]
  },
  {
   "cell_type": "code",
   "execution_count": 20,
   "id": "1fbb1c1a-4d95-40c4-8989-95f4eb17d4bb",
   "metadata": {},
   "outputs": [
    {
     "name": "stdout",
     "output_type": "stream",
     "text": [
      "xgboost_classifer\n"
     ]
    }
   ],
   "source": [
    "classifier = xgboost_classifer()"
   ]
  },
  {
   "cell_type": "code",
   "execution_count": 21,
   "id": "f9e6b554-8bca-4e2e-b0ac-8a337ee3f86b",
   "metadata": {},
   "outputs": [
    {
     "name": "stdout",
     "output_type": "stream",
     "text": [
      "train the model\n"
     ]
    }
   ],
   "source": [
    "train(classifier,X_train_data, y_train_data)"
   ]
  },
  {
   "cell_type": "code",
   "execution_count": 22,
   "id": "a3ece759-406c-4b42-9844-20d902aee978",
   "metadata": {},
   "outputs": [
    {
     "name": "stdout",
     "output_type": "stream",
     "text": [
      "predict with the model\n"
     ]
    }
   ],
   "source": [
    "y_pred = predict(classifier,X_test_data)"
   ]
  },
  {
   "cell_type": "code",
   "execution_count": 24,
   "id": "10047fe1-f1a9-41bb-83eb-6b3205075799",
   "metadata": {},
   "outputs": [
    {
     "name": "stdout",
     "output_type": "stream",
     "text": [
      "calculate score with prediction vs true values\n",
      "Accuracy: 56.38%\n"
     ]
    }
   ],
   "source": [
    "accuracy = calculate_score(y_test_data,y_pred)"
   ]
  },
  {
   "cell_type": "code",
   "execution_count": 33,
   "id": "a1abb348-9e90-476d-ba46-b60480edcba9",
   "metadata": {},
   "outputs": [
    {
     "name": "stdout",
     "output_type": "stream",
     "text": [
      "xgboost_classifer\n",
      "Cross-validation scores for each fold: [0.81893004 0.78600823 0.69753086 0.66322314 0.32644628]\n",
      "Mean CV score: 0.6584277114580145\n"
     ]
    }
   ],
   "source": [
    "classifier_cv = xgboost_classifer()\n",
    "do_cross_validation(X,Y,classifier_cv)"
   ]
  },
  {
   "cell_type": "code",
   "execution_count": 25,
   "id": "61365415-f694-4aa4-88b3-60c380a264c8",
   "metadata": {},
   "outputs": [
    {
     "name": "stdout",
     "output_type": "stream",
     "text": [
      "saved the model\n"
     ]
    }
   ],
   "source": [
    "save_model(classifier,'old_data_xgb_basic_nochanges',accuracy,y_test_data,y_pred)"
   ]
  },
  {
   "cell_type": "code",
   "execution_count": 27,
   "id": "da212328-fceb-4e9b-b212-444c81889251",
   "metadata": {},
   "outputs": [],
   "source": [
    "#get_model('old_data_xgb_basic_nochanges')"
   ]
  },
  {
   "cell_type": "markdown",
   "id": "8add10fc-0644-4ef4-b094-4035ac8a0b60",
   "metadata": {},
   "source": [
    "## training with new dataset"
   ]
  },
  {
   "cell_type": "code",
   "execution_count": null,
   "id": "c605514f-aac3-4129-84c1-b03015772863",
   "metadata": {},
   "outputs": [
    {
     "name": "stdout",
     "output_type": "stream",
     "text": [
      "load new files\n",
      "load test files\n",
      "split the train and test data\n",
      "xgboost_classifer\n",
      "train the model\n"
     ]
    }
   ],
   "source": [
    "df_categorical_new,df_matrices_new,df_quant_new,df_solutions_new,df_categorical_test,df_matrices_test,df_quant_test = load_data_new()\n",
    "\n",
    "X_train_data, X_test_data, y_train_data, y_test_data = \\\n",
    "    loaddata_joinframes_splittestandtrain (df_categorical_new,df_matrices_new,df_quant_new,df_solutions_new)\n",
    "\n",
    "classifier = xgboost_classifer()\n",
    "train(classifier,X_train_data, y_train_data)\n",
    "y_pred = predict(classifier,X_test_data)\n",
    "accuracy = calculate_score(y_test_data,y_pred)\n",
    "classifier_cv = xgboost_classifer()\n",
    "do_cross_validation(X,Y,classifier_cv)\n",
    "save_model(classifier,'new_data_xgb_basic_nochanges',accuracy,y_test_data,y_pred)"
   ]
  },
  {
   "cell_type": "markdown",
   "id": "23f8d62b-48e6-4941-8df7-427dcf66ca6a",
   "metadata": {},
   "source": [
    "## PCA"
   ]
  },
  {
   "cell_type": "code",
   "execution_count": null,
   "id": "2090da1e-baec-4868-b50b-35095ecf4419",
   "metadata": {},
   "outputs": [],
   "source": [
    "df_categorical_new,df_matrices_new,df_quant_new,df_solutions_new,df_categorical_test,df_matrices_test,df_quant_test = load_data_new()\n",
    "\n",
    "## pca calculation\n",
    "## pca results save to joblib  def save_exploration(model,name):\n",
    "## pca model load >> df_matrices_new [participant_id ]\n",
    "\n",
    "X_train_data, X_test_data, y_train_data, y_test_data = \\\n",
    "    loaddata_joinframes_splittestandtrain (df_categorical_new,df_matrices_new,df_quant_new,df_solutions_new)\n",
    "\n",
    "classifier = xgboost_classifer()\n",
    "train(classifier,X_train_data, y_train_data)\n",
    "y_pred = predict(classifier,X_test_data)\n",
    "accuracy = calculate_score(y_test_data,y_pred)\n",
    "classifier_cv = xgboost_classifer()\n",
    "do_cross_validation(X,Y,classifier_cv)\n",
    "save_model(classifier,'new_data_xgb_basic_pca',accuracy,y_test_data,y_pred)"
   ]
  },
  {
   "cell_type": "markdown",
   "id": "b6442906-598c-4616-9d2a-31316f8641ed",
   "metadata": {},
   "source": [
    "## quantitivate data modified"
   ]
  },
  {
   "cell_type": "code",
   "execution_count": null,
   "id": "367deb2f-0584-476b-979c-df9683f1b3dc",
   "metadata": {},
   "outputs": [],
   "source": []
  }
 ],
 "metadata": {
  "kernelspec": {
   "display_name": "Python 3 (ipykernel)",
   "language": "python",
   "name": "python3"
  },
  "language_info": {
   "codemirror_mode": {
    "name": "ipython",
    "version": 3
   },
   "file_extension": ".py",
   "mimetype": "text/x-python",
   "name": "python",
   "nbconvert_exporter": "python",
   "pygments_lexer": "ipython3",
   "version": "3.12.9"
  }
 },
 "nbformat": 4,
 "nbformat_minor": 5
}
